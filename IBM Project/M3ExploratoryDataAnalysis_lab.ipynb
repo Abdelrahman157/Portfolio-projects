{
  "metadata": {
    "kernelspec": {
      "name": "python",
      "display_name": "Python (Pyodide)",
      "language": "python"
    },
    "language_info": {
      "codemirror_mode": {
        "name": "python",
        "version": 3
      },
      "file_extension": ".py",
      "mimetype": "text/x-python",
      "name": "python",
      "nbconvert_exporter": "python",
      "pygments_lexer": "ipython3",
      "version": "3.8"
    },
    "prev_pub_hash": "ade92979dd70141c119d5b4bacc0df03967cedc29c4b7d26b1149404340075d2",
    "colab": {
      "provenance": []
    }
  },
  "nbformat_minor": 0,
  "nbformat": 4,
  "cells": [
    {
      "cell_type": "markdown",
      "source": [
        "#**Exploratory Data Analysis**\n"
      ],
      "metadata": {
        "id": "uI6LaPRzVNXk"
      }
    },
    {
      "cell_type": "markdown",
      "source": [
        "## Objectives\n"
      ],
      "metadata": {
        "id": "HSzU2MzTVNXl"
      }
    },
    {
      "cell_type": "markdown",
      "source": [
        "-   Identify the distribution of data in the dataset.\n",
        "\n",
        "-   Identify outliers in the dataset.\n",
        "\n",
        "-   Remove outliers from the dataset.\n",
        "\n",
        "-   Identify correlation between features in the dataset.\n"
      ],
      "metadata": {
        "id": "Q_o5zJNCVNXm"
      }
    },
    {
      "cell_type": "markdown",
      "source": [
        "* * *\n"
      ],
      "metadata": {
        "id": "0N1WjY1dVNXn"
      }
    },
    {
      "cell_type": "markdown",
      "source": [
        "Import the pandas module.\n"
      ],
      "metadata": {
        "id": "m1rbhlU1VNXo"
      }
    },
    {
      "cell_type": "code",
      "source": [
        "import pandas as pd\n",
        "import matplotlib.pyplot as plt\n",
        "%matplotlib inline\n"
      ],
      "metadata": {
        "trusted": true,
        "id": "xejQIoonVNXo"
      },
      "outputs": [],
      "execution_count": null
    },
    {
      "cell_type": "markdown",
      "source": [
        "Load the dataset into a dataframe.\n"
      ],
      "metadata": {
        "id": "e2f6Zdj-VNXp"
      }
    },
    {
      "cell_type": "markdown",
      "source": [
        "<h2>Read Data</h2>\n",
        "<p>\n",
        "We utilize the <code>pandas.read_csv()</code> function for reading CSV files. However, in this version of the lab, which operates on JupyterLite, the dataset needs to be downloaded to the interface using the provided code below.\n",
        "</p>\n"
      ],
      "metadata": {
        "id": "hTxzIfSvVNXp"
      }
    },
    {
      "cell_type": "markdown",
      "source": [
        "The functions below will download the dataset into your browser:\n"
      ],
      "metadata": {
        "id": "gpf5u920VNXp"
      }
    },
    {
      "cell_type": "code",
      "source": [
        "df = pd.read_csv(\"https://cf-courses-data.s3.us.cloud-object-storage.appdomain.cloud/IBM-DA0321EN-SkillsNetwork/LargeData/m2_survey_data.csv\")"
      ],
      "metadata": {
        "trusted": true,
        "id": "rRJTwDwUVNXp"
      },
      "outputs": [],
      "execution_count": null
    },
    {
      "cell_type": "code",
      "source": [
        "#file_path = \"https://cf-courses-data.s3.us.cloud-object-storage.appdomain.cloud/IBM-DA0321EN-SkillsNetwork/LargeData/m2_survey_data.csv\""
      ],
      "metadata": {
        "trusted": true,
        "id": "5ZzJgbumVNXp"
      },
      "outputs": [],
      "execution_count": null
    },
    {
      "cell_type": "markdown",
      "source": [
        "To obtain the dataset, utilize the download() function as defined above:  \n"
      ],
      "metadata": {
        "id": "A4A6WraMVNXp"
      }
    },
    {
      "cell_type": "code",
      "source": [
        "#await download(file_path, \"m2_survey_data.csv\")\n",
        "#file_name=\"m2_survey_data.csv\""
      ],
      "metadata": {
        "trusted": true,
        "id": "ZcoJzePrVNXq"
      },
      "outputs": [],
      "execution_count": null
    },
    {
      "cell_type": "markdown",
      "source": [
        "Utilize the Pandas method read_csv() to load the data into a dataframe.\n"
      ],
      "metadata": {
        "id": "eJFaUb1-VNXq"
      }
    },
    {
      "cell_type": "code",
      "source": [
        "#df = pd.read_csv(file_name)"
      ],
      "metadata": {
        "trusted": true,
        "id": "ez8VXdoiVNXq"
      },
      "outputs": [],
      "execution_count": null
    },
    {
      "cell_type": "code",
      "source": [
        "#df = pd.read_csv(\"https://cf-courses-data.s3.us.cloud-object-storage.appdomain.cloud/IBM-DA0321EN-SkillsNetwork/LargeData/m2_survey_data.csv\")"
      ],
      "metadata": {
        "id": "ZJfBzuOIVNXq"
      },
      "outputs": [],
      "execution_count": null
    },
    {
      "cell_type": "markdown",
      "source": [
        "## Distribution\n"
      ],
      "metadata": {
        "id": "EVfa4NoiVNXq"
      }
    },
    {
      "cell_type": "markdown",
      "source": [
        "### Determine how the data is distributed\n"
      ],
      "metadata": {
        "id": "oUcyIabPVNXq"
      }
    },
    {
      "cell_type": "markdown",
      "source": [
        "The column `ConvertedComp` contains Salary converted to annual USD salaries using the exchange rate on 2019-02-01.\n",
        "\n",
        "This assumes 12 working months and 50 working weeks.\n"
      ],
      "metadata": {
        "id": "cIQN0cXtVNXq"
      }
    },
    {
      "cell_type": "markdown",
      "source": [
        "Plot the distribution curve for the column `ConvertedComp`.\n"
      ],
      "metadata": {
        "id": "M7fMLnqTVNXr"
      }
    },
    {
      "cell_type": "code",
      "source": [
        "# your code goes here\n",
        "sns.displot(df['ConvertedComp'], kde=True)"
      ],
      "metadata": {
        "trusted": true,
        "id": "NeR2xujDVNXr",
        "outputId": "7558f477-861a-4106-f3cf-65579c66a230",
        "colab": {
          "base_uri": "https://localhost:8080/",
          "height": 523
        }
      },
      "outputs": [
        {
          "output_type": "execute_result",
          "data": {
            "text/plain": [
              "<seaborn.axisgrid.FacetGrid at 0x7df1b5e14eb0>"
            ]
          },
          "metadata": {},
          "execution_count": 36
        },
        {
          "output_type": "display_data",
          "data": {
            "text/plain": [
              "<Figure size 500x500 with 1 Axes>"
            ],
            "image/png": "[encoded data removed]"
          },
          "metadata": {}
        }
      ],
      "execution_count": null
    },
    {
      "cell_type": "markdown",
      "source": [
        "Plot the histogram for the column `ConvertedComp`.\n"
      ],
      "metadata": {
        "id": "I13H53wEVNXr"
      }
    },
    {
      "cell_type": "code",
      "source": [
        "# your code goes here\n",
        "df['ConvertedComp'].plot.hist(bins=13, alpha=0.5)"
      ],
      "metadata": {
        "id": "gj2XEdwnVNXs",
        "colab": {
          "base_uri": "https://localhost:8080/",
          "height": 465
        },
        "outputId": "384accc1-2f81-4f36-d323-170d6e483e4e"
      },
      "outputs": [
        {
          "output_type": "execute_result",
          "data": {
            "text/plain": [
              "<Axes: ylabel='Frequency'>"
            ]
          },
          "metadata": {},
          "execution_count": 38
        },
        {
          "output_type": "display_data",
          "data": {
            "text/plain": [
              "<Figure size 640x480 with 1 Axes>"
            ],
            "image/png": "[encoded data removed]"
          },
          "metadata": {}
        }
      ],
      "execution_count": null
    },
    {
      "cell_type": "markdown",
      "source": [
        "What is the median of the column `ConvertedComp`?\n"
      ],
      "metadata": {
        "id": "X7XN9hYgVNXs"
      }
    },
    {
      "cell_type": "code",
      "source": [
        "# your code goes here\n",
        "df['ConvertedComp'].median()"
      ],
      "metadata": {
        "id": "gzC-_yeaVNXs",
        "colab": {
          "base_uri": "https://localhost:8080/"
        },
        "outputId": "dab7221b-68d7-4600-fb63-b9a434609a9c"
      },
      "outputs": [
        {
          "output_type": "execute_result",
          "data": {
            "text/plain": [
              "57745.0"
            ]
          },
          "metadata": {},
          "execution_count": 41
        }
      ],
      "execution_count": null
    },
    {
      "cell_type": "markdown",
      "source": [
        "How many responders identified themselves only as a **Man**?\n"
      ],
      "metadata": {
        "id": "CVXkUXDVVNXs"
      }
    },
    {
      "cell_type": "code",
      "source": [
        "# your code goes here\n",
        "df['Gender'].value_counts()['Man']"
      ],
      "metadata": {
        "id": "ZbGvmmWcVNXs",
        "colab": {
          "base_uri": "https://localhost:8080/"
        },
        "outputId": "e188bc37-c1ea-4534-ec78-f74d53e27492"
      },
      "outputs": [
        {
          "output_type": "execute_result",
          "data": {
            "text/plain": [
              "10480"
            ]
          },
          "metadata": {},
          "execution_count": 44
        }
      ],
      "execution_count": null
    },
    {
      "cell_type": "markdown",
      "source": [
        "Find out the  median ConvertedComp of responders identified themselves only as a **Woman**?\n"
      ],
      "metadata": {
        "id": "oJ8YLOsCVNXs"
      }
    },
    {
      "cell_type": "code",
      "source": [
        "# your code goes here\n",
        "df_woman = df[df['Gender']=='Woman']\n",
        "print('Median: ', df_woman['ConvertedComp'].median())"
      ],
      "metadata": {
        "id": "GhJUPAKXVNXs",
        "colab": {
          "base_uri": "https://localhost:8080/"
        },
        "outputId": "50cf05fb-088a-4950-b24f-38f13e1ff30e"
      },
      "outputs": [
        {
          "output_type": "stream",
          "name": "stdout",
          "text": [
            "Median:  57708.0\n"
          ]
        }
      ],
      "execution_count": null
    },
    {
      "cell_type": "markdown",
      "source": [
        "Give the five number summary for the column `Age`?\n"
      ],
      "metadata": {
        "id": "5P60L288VNXs"
      }
    },
    {
      "cell_type": "code",
      "source": [
        "# your code goes here\n",
        "df['Age'].describe()"
      ],
      "metadata": {
        "id": "UP3_wDkDVNXt",
        "colab": {
          "base_uri": "https://localhost:8080/"
        },
        "outputId": "f28003d7-6520-4a0d-b494-ec96b1d93026"
      },
      "outputs": [
        {
          "output_type": "execute_result",
          "data": {
            "text/plain": [
              "count    11111.000000\n",
              "mean        30.778895\n",
              "std          7.393686\n",
              "min         16.000000\n",
              "25%         25.000000\n",
              "50%         29.000000\n",
              "75%         35.000000\n",
              "max         99.000000\n",
              "Name: Age, dtype: float64"
            ]
          },
          "metadata": {},
          "execution_count": 47
        }
      ],
      "execution_count": null
    },
    {
      "cell_type": "markdown",
      "source": [
        "Plot a histogram of the column `Age`.\n"
      ],
      "metadata": {
        "id": "MGCRd1C3VNXt"
      }
    },
    {
      "cell_type": "code",
      "source": [
        "# your code goes here\n",
        "plt.hist(df['Age'])"
      ],
      "metadata": {
        "id": "d9RVnIONVNXw",
        "colab": {
          "base_uri": "https://localhost:8080/",
          "height": 499
        },
        "outputId": "25c90436-2278-4810-be3b-12dbcd3544de"
      },
      "outputs": [
        {
          "output_type": "execute_result",
          "data": {
            "text/plain": [
              "(array([2.094e+03, 5.337e+03, 2.557e+03, 8.420e+02, 2.250e+02, 4.900e+01,\n",
              "        6.000e+00, 0.000e+00, 0.000e+00, 1.000e+00]),\n",
              " array([16. , 24.3, 32.6, 40.9, 49.2, 57.5, 65.8, 74.1, 82.4, 90.7, 99. ]),\n",
              " <BarContainer object of 10 artists>)"
            ]
          },
          "metadata": {},
          "execution_count": 49
        },
        {
          "output_type": "display_data",
          "data": {
            "text/plain": [
              "<Figure size 640x480 with 1 Axes>"
            ],
            "image/png": "[encoded data removed]"
          },
          "metadata": {}
        }
      ],
      "execution_count": null
    },
    {
      "cell_type": "markdown",
      "source": [
        "## Outliers\n"
      ],
      "metadata": {
        "id": "oG9Ly7xzVNXw"
      }
    },
    {
      "cell_type": "markdown",
      "source": [
        "### Finding outliers\n"
      ],
      "metadata": {
        "id": "uMSwueq3VNXx"
      }
    },
    {
      "cell_type": "markdown",
      "source": [
        "Find out if outliers exist in the column `ConvertedComp` using a box plot?\n"
      ],
      "metadata": {
        "id": "qeNQBeJLVNXx"
      }
    },
    {
      "cell_type": "code",
      "source": [
        "# your code goes here\n",
        "df_Conv = pd.DataFrame(data = df['ConvertedComp'])\n",
        "sns.boxplot(data=df_Conv)"
      ],
      "metadata": {
        "id": "ZeM_l2XxVNXx",
        "colab": {
          "base_uri": "https://localhost:8080/",
          "height": 462
        },
        "outputId": "ab0f23dc-0122-4ef4-d585-ba745dde4b12"
      },
      "outputs": [
        {
          "output_type": "execute_result",
          "data": {
            "text/plain": [
              "<Axes: >"
            ]
          },
          "metadata": {},
          "execution_count": 53
        },
        {
          "output_type": "display_data",
          "data": {
            "text/plain": [
              "<Figure size 640x480 with 1 Axes>"
            ],
            "image/png": "[encoded data removed]"
          },
          "metadata": {}
        }
      ],
      "execution_count": null
    },
    {
      "cell_type": "markdown",
      "source": [
        "Find out the Inter Quartile Range for the column `ConvertedComp`.\n"
      ],
      "metadata": {
        "id": "SDV4cfowVNXx"
      }
    },
    {
      "cell_type": "code",
      "source": [
        "# your code goes here\n",
        "df['ConvertedComp'].dropna(axis=0,inplace=True)\n",
        "Q1 = df['ConvertedComp'].quantile(0.25)\n",
        "Q3 = df['ConvertedComp'].quantile(0.75)\n",
        "IQR = Q3-Q1\n",
        "print('The Inter Quartile Range for ConvertedComp is: ', IQR)"
      ],
      "metadata": {
        "id": "hZ1r-dutVNXx",
        "colab": {
          "base_uri": "https://localhost:8080/"
        },
        "outputId": "25b3b359-0edd-4f36-a62d-077334c1eaf2"
      },
      "outputs": [
        {
          "output_type": "stream",
          "name": "stdout",
          "text": [
            "The Inter Quartile Range for ConvertedComp is:  73132.0\n"
          ]
        }
      ],
      "execution_count": null
    },
    {
      "cell_type": "markdown",
      "source": [
        "Find out the upper and lower bounds.\n"
      ],
      "metadata": {
        "id": "Sfx-6VO_VNXx"
      }
    },
    {
      "cell_type": "code",
      "source": [
        "# your code goes here\n",
        "upper = Q3+(IQR*1.5)\n",
        "lower = Q1-(IQR*1.5)\n",
        "\n",
        "print('Upper Bound: ',upper)\n",
        "print('Lower Bound: ',lower)"
      ],
      "metadata": {
        "id": "vfd8cdiGVNXx",
        "colab": {
          "base_uri": "https://localhost:8080/"
        },
        "outputId": "112bef72-7dad-467a-9d51-608b36840cfc"
      },
      "outputs": [
        {
          "output_type": "stream",
          "name": "stdout",
          "text": [
            "Upper Bound:  209698.0\n",
            "Lower Bound:  -82830.0\n"
          ]
        }
      ],
      "execution_count": null
    },
    {
      "cell_type": "markdown",
      "source": [
        "Identify how many outliers are there in the `ConvertedComp` column.\n"
      ],
      "metadata": {
        "id": "tTD8wzZbVNXx"
      }
    },
    {
      "cell_type": "code",
      "source": [
        "# your code goes here\n",
        "df[(df['ConvertedComp']<lower) | (df['ConvertedComp']>upper)].ConvertedComp.count()"
      ],
      "metadata": {
        "id": "rDUQQ2JsVNXy",
        "colab": {
          "base_uri": "https://localhost:8080/"
        },
        "outputId": "a6b91311-b1f9-45ac-9e13-5bf8b492a18a"
      },
      "outputs": [
        {
          "output_type": "execute_result",
          "data": {
            "text/plain": [
              "879"
            ]
          },
          "metadata": {},
          "execution_count": 56
        }
      ],
      "execution_count": null
    },
    {
      "cell_type": "markdown",
      "source": [
        "Create a new dataframe by removing the outliers from the `ConvertedComp` column.\n"
      ],
      "metadata": {
        "id": "odm2ff-iVNXy"
      }
    },
    {
      "cell_type": "code",
      "source": [
        "# your code goes here\n",
        "df2 = df['ConvertedComp'].clip(upper, lower)\n",
        "df2.describe()"
      ],
      "metadata": {
        "id": "fdPjNigTVNXy",
        "colab": {
          "base_uri": "https://localhost:8080/"
        },
        "outputId": "1f8843dd-8cc5-41d1-abbb-b3523ac9b871"
      },
      "outputs": [
        {
          "output_type": "execute_result",
          "data": {
            "text/plain": [
              "count     10582.000000\n",
              "mean      72327.661406\n",
              "std       58619.926538\n",
              "min           0.000000\n",
              "25%       26868.000000\n",
              "50%       57745.000000\n",
              "75%      100000.000000\n",
              "max      209698.000000\n",
              "Name: ConvertedComp, dtype: float64"
            ]
          },
          "metadata": {},
          "execution_count": 57
        }
      ],
      "execution_count": null
    },
    {
      "cell_type": "markdown",
      "source": [
        "## Correlation\n"
      ],
      "metadata": {
        "id": "WnE64gKcVNXy"
      }
    },
    {
      "cell_type": "markdown",
      "source": [
        "### Finding correlation\n"
      ],
      "metadata": {
        "id": "OIiejmE0VNXy"
      }
    },
    {
      "cell_type": "markdown",
      "source": [
        "Find the correlation between `Age` and all other numerical columns.\n"
      ],
      "metadata": {
        "id": "14RvHOy9VNXy"
      }
    },
    {
      "cell_type": "code",
      "source": [
        "# your code goes here\n",
        "df.dtypes\n"
      ],
      "metadata": {
        "id": "tikvibUMVNXy",
        "colab": {
          "base_uri": "https://localhost:8080/"
        },
        "outputId": "fc178f8a-7917-4784-9410-fa34d1058f81"
      },
      "outputs": [
        {
          "output_type": "execute_result",
          "data": {
            "text/plain": [
              "Respondent       int64\n",
              "MainBranch      object\n",
              "Hobbyist        object\n",
              "OpenSourcer     object\n",
              "OpenSource      object\n",
              "                 ...  \n",
              "Sexuality       object\n",
              "Ethnicity       object\n",
              "Dependents      object\n",
              "SurveyLength    object\n",
              "SurveyEase      object\n",
              "Length: 85, dtype: object"
            ]
          },
          "metadata": {},
          "execution_count": 73
        }
      ],
      "execution_count": null
    },
    {
      "cell_type": "markdown",
      "source": [
        " Copyright © 2020 IBM Corporation. This notebook and its source code are released under the terms of the [MIT License](https://cognitiveclass.ai/mit-license?cm_mmc=Email_Newsletter-_-Developer_Ed%2BTech-_-WW_WW-_-SkillsNetwork-Courses-IBM-DA0321EN-SkillsNetwork-21426264&cm_mmca1=000026UJ&cm_mmca2=10006555&cm_mmca3=M12345678&cvosrc=email.Newsletter.M12345678&cvo_campaign=000026UJ&cm_mmc=Email_Newsletter-_-Developer_Ed%2BTech-_-WW_WW-_-SkillsNetwork-Courses-IBM-DA0321EN-SkillsNetwork-21426264&cm_mmca1=000026UJ&cm_mmca2=10006555&cm_mmca3=M12345678&cvosrc=email.Newsletter.M12345678&cvo_campaign=000026UJ&cm_mmc=Email_Newsletter-_-Developer_Ed%2BTech-_-WW_WW-_-SkillsNetwork-Courses-IBM-DA0321EN-SkillsNetwork-21426264&cm_mmca1=000026UJ&cm_mmca2=10006555&cm_mmca3=M12345678&cvosrc=email.Newsletter.M12345678&cvo_campaign=000026UJ&cm_mmc=Email_Newsletter-_-Developer_Ed%2BTech-_-WW_WW-_-SkillsNetwork-Courses-IBM-DA0321EN-SkillsNetwork-21426264&cm_mmca1=000026UJ&cm_mmca2=10006555&cm_mmca3=M12345678&cvosrc=email.Newsletter.M12345678&cvo_campaign=000026UJ).\n"
      ],
      "metadata": {
        "id": "1rB7vll4VNXz"
      }
    }
  ]
}